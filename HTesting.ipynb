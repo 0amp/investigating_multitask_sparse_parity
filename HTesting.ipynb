{
 "cells": [
  {
   "cell_type": "code",
   "execution_count": 1,
   "metadata": {},
   "outputs": [
    {
     "name": "stderr",
     "output_type": "stream",
     "text": [
      "/Users/apuri/opt/anaconda3/lib/python3.8/site-packages/pandas/core/computation/expressions.py:20: UserWarning: Pandas requires version '2.7.3' or newer of 'numexpr' (version '2.7.1' currently installed).\n",
      "  from pandas.core.computation.check import NUMEXPR_INSTALLED\n"
     ]
    }
   ],
   "source": [
    "import pandas as pd \n"
   ]
  },
  {
   "cell_type": "code",
   "execution_count": 216,
   "metadata": {},
   "outputs": [],
   "source": [
    "df = pd.read_pickle('df-5-3-5pm.pkl')"
   ]
  },
  {
   "cell_type": "code",
   "execution_count": 99,
   "metadata": {},
   "outputs": [],
   "source": [
    "import numpy as np \n",
    "from scipy.stats import gaussian_kde, entropy\n",
    "\n",
    "\n",
    "def divergence_gaussian_kde(kde_p, kde_q, samples=1000):\n",
    "    sample_1 = np.linspace(0.05, 0.8, samples)\n",
    "    p = kde_p(sample_1) + 1e-8\n",
    "    q = kde_q(sample_1) + 1e-8\n",
    "    m = (p + q) / 2\n",
    "    divergence = (entropy(p, m) + entropy(q, m)) / 2\n",
    "    return divergence\n",
    "\n",
    "\n",
    "def KL_divergence(data, k, real_distribution):\n",
    "    window_shape = k\n",
    "    neighbors_matrix = np.lib.stride_tricks.sliding_window_view(data, window_shape)\n",
    "\n",
    "    # Preallocate the kde_list array\n",
    "    kde_list = np.empty(neighbors_matrix.shape[0], dtype=object)\n",
    "\n",
    "    # Populate the kde_list array with gaussian_kde objects\n",
    "    for i in range(neighbors_matrix.shape[0]):\n",
    "        kde_list[i] = gaussian_kde(neighbors_matrix[i])\n",
    "\n",
    "    # Calculate KL divergence values in a vectorized manner\n",
    "    kl_values = np.array([divergence_gaussian_kde(kde_list[i], real_distribution[i + k//2])\n",
    "                          for i in range(0, kde_list.shape[0], 500)])\n",
    "\n",
    "    # Sum the KL values to obtain the final result\n",
    "    KL_sum = np.sum(kl_values)\n",
    "\n",
    "    return KL_sum"
   ]
  },
  {
   "cell_type": "code",
   "execution_count": 62,
   "metadata": {},
   "outputs": [],
   "source": [
    "\n",
    "# Filter instances with alpha=0.4 and hidden sizes 85, 210, and 485\n",
    "filtered_df = df[(df['alpha'] == 0.4) & (df['hidden_size'].isin([85, 210, 485]))]\n",
    "\n",
    "# Separate data by hidden_size\n",
    "df_85 = filtered_df[filtered_df['hidden_size'] == 85].iloc[:, 3:]\n",
    "df_210 = filtered_df[filtered_df['hidden_size'] == 210].iloc[:, 3:]\n",
    "df_485 = filtered_df[filtered_df['hidden_size'] == 485].iloc[:, 3:]\n",
    "\n",
    "# Function to calculate gaussian_kde for each column\n",
    "def calculate_gaussian_kde(df):\n",
    "    kde_list = []\n",
    "    for column in df.columns:\n",
    "        kde_list.append(gaussian_kde(df[column]))\n",
    "    return kde_list\n",
    "\n",
    "# Calculate gaussian_kde for each hidden_size\n",
    "kde_85 = calculate_gaussian_kde(df_85)\n",
    "kde_210 = calculate_gaussian_kde(df_210)\n",
    "kde_485 = calculate_gaussian_kde(df_485)"
   ]
  },
  {
   "cell_type": "code",
   "execution_count": 46,
   "metadata": {},
   "outputs": [],
   "source": [
    "# Function to get the first instance of the 100k floats for each hidden_size\n",
    "def get_first_instance(df):\n",
    "    return np.array(df.iloc[0])\n",
    "\n",
    "# Get the first instance for each hidden_size\n",
    "first_instance_85 = get_first_instance(df_85)\n",
    "first_instance_210 = get_first_instance(df_210)\n",
    "first_instance_485 = get_first_instance(df_485)"
   ]
  },
  {
   "cell_type": "code",
   "execution_count": 91,
   "metadata": {},
   "outputs": [],
   "source": [
    "kde_85, kde_210, kde_485 = np.array(kde_85), np.array(kde_210), np.array(kde_485)"
   ]
  },
  {
   "cell_type": "code",
   "execution_count": 103,
   "metadata": {},
   "outputs": [
    {
     "name": "stdout",
     "output_type": "stream",
     "text": [
      "1\n"
     ]
    },
    {
     "ename": "ValueError",
     "evalue": "`dataset` input should have multiple elements.",
     "output_type": "error",
     "traceback": [
      "\u001b[0;31m---------------------------------------------------------------------------\u001b[0m",
      "\u001b[0;31mValueError\u001b[0m                                Traceback (most recent call last)",
      "\u001b[0;32m<ipython-input-103-d5c32adfb4f6>\u001b[0m in \u001b[0;36m<module>\u001b[0;34m\u001b[0m\n\u001b[1;32m      1\u001b[0m \u001b[0;32mfor\u001b[0m \u001b[0mk\u001b[0m \u001b[0;32min\u001b[0m \u001b[0mrange\u001b[0m\u001b[0;34m(\u001b[0m\u001b[0;36m1\u001b[0m\u001b[0;34m,\u001b[0m\u001b[0;36m101\u001b[0m\u001b[0;34m,\u001b[0m \u001b[0;36m2\u001b[0m\u001b[0;34m)\u001b[0m\u001b[0;34m:\u001b[0m\u001b[0;34m\u001b[0m\u001b[0;34m\u001b[0m\u001b[0m\n\u001b[1;32m      2\u001b[0m     \u001b[0mprint\u001b[0m\u001b[0;34m(\u001b[0m\u001b[0mk\u001b[0m\u001b[0;34m)\u001b[0m\u001b[0;34m\u001b[0m\u001b[0;34m\u001b[0m\u001b[0m\n\u001b[0;32m----> 3\u001b[0;31m     \u001b[0mx\u001b[0m \u001b[0;34m=\u001b[0m \u001b[0mKL_divergence\u001b[0m\u001b[0;34m(\u001b[0m\u001b[0mfirst_instance_85\u001b[0m\u001b[0;34m,\u001b[0m \u001b[0mk\u001b[0m\u001b[0;34m,\u001b[0m \u001b[0mkde_85\u001b[0m\u001b[0;34m)\u001b[0m\u001b[0;34m\u001b[0m\u001b[0;34m\u001b[0m\u001b[0m\n\u001b[0m\u001b[1;32m      4\u001b[0m     \u001b[0my\u001b[0m \u001b[0;34m=\u001b[0m \u001b[0mKL_divergence\u001b[0m\u001b[0;34m(\u001b[0m\u001b[0mfirst_instance_210\u001b[0m\u001b[0;34m,\u001b[0m \u001b[0mk\u001b[0m\u001b[0;34m,\u001b[0m \u001b[0mkde_210\u001b[0m\u001b[0;34m)\u001b[0m\u001b[0;34m\u001b[0m\u001b[0;34m\u001b[0m\u001b[0m\n\u001b[1;32m      5\u001b[0m     \u001b[0mz\u001b[0m \u001b[0;34m=\u001b[0m \u001b[0mKL_divergence\u001b[0m\u001b[0;34m(\u001b[0m\u001b[0mfirst_instance_485\u001b[0m\u001b[0;34m,\u001b[0m \u001b[0mk\u001b[0m\u001b[0;34m,\u001b[0m \u001b[0mkde_485\u001b[0m\u001b[0;34m)\u001b[0m\u001b[0;34m\u001b[0m\u001b[0;34m\u001b[0m\u001b[0m\n",
      "\u001b[0;32m<ipython-input-99-4ea823c0f27f>\u001b[0m in \u001b[0;36mKL_divergence\u001b[0;34m(data, k, real_distribution)\u001b[0m\n\u001b[1;32m     40\u001b[0m     \u001b[0;31m# Populate the kde_list array with gaussian_kde objects\u001b[0m\u001b[0;34m\u001b[0m\u001b[0;34m\u001b[0m\u001b[0;34m\u001b[0m\u001b[0m\n\u001b[1;32m     41\u001b[0m     \u001b[0;32mfor\u001b[0m \u001b[0mi\u001b[0m \u001b[0;32min\u001b[0m \u001b[0mrange\u001b[0m\u001b[0;34m(\u001b[0m\u001b[0mneighbors_matrix\u001b[0m\u001b[0;34m.\u001b[0m\u001b[0mshape\u001b[0m\u001b[0;34m[\u001b[0m\u001b[0;36m0\u001b[0m\u001b[0;34m]\u001b[0m\u001b[0;34m)\u001b[0m\u001b[0;34m:\u001b[0m\u001b[0;34m\u001b[0m\u001b[0;34m\u001b[0m\u001b[0m\n\u001b[0;32m---> 42\u001b[0;31m         \u001b[0mkde_list\u001b[0m\u001b[0;34m[\u001b[0m\u001b[0mi\u001b[0m\u001b[0;34m]\u001b[0m \u001b[0;34m=\u001b[0m \u001b[0mgaussian_kde\u001b[0m\u001b[0;34m(\u001b[0m\u001b[0mneighbors_matrix\u001b[0m\u001b[0;34m[\u001b[0m\u001b[0mi\u001b[0m\u001b[0;34m]\u001b[0m\u001b[0;34m)\u001b[0m\u001b[0;34m\u001b[0m\u001b[0;34m\u001b[0m\u001b[0m\n\u001b[0m\u001b[1;32m     43\u001b[0m \u001b[0;34m\u001b[0m\u001b[0m\n\u001b[1;32m     44\u001b[0m     \u001b[0;31m# Calculate KL divergence values in a vectorized manner\u001b[0m\u001b[0;34m\u001b[0m\u001b[0;34m\u001b[0m\u001b[0;34m\u001b[0m\u001b[0m\n",
      "\u001b[0;32m~/opt/anaconda3/lib/python3.8/site-packages/scipy/stats/_kde.py\u001b[0m in \u001b[0;36m__init__\u001b[0;34m(self, dataset, bw_method, weights)\u001b[0m\n\u001b[1;32m    197\u001b[0m         \u001b[0mself\u001b[0m\u001b[0;34m.\u001b[0m\u001b[0mdataset\u001b[0m \u001b[0;34m=\u001b[0m \u001b[0matleast_2d\u001b[0m\u001b[0;34m(\u001b[0m\u001b[0masarray\u001b[0m\u001b[0;34m(\u001b[0m\u001b[0mdataset\u001b[0m\u001b[0;34m)\u001b[0m\u001b[0;34m)\u001b[0m\u001b[0;34m\u001b[0m\u001b[0;34m\u001b[0m\u001b[0m\n\u001b[1;32m    198\u001b[0m         \u001b[0;32mif\u001b[0m \u001b[0;32mnot\u001b[0m \u001b[0mself\u001b[0m\u001b[0;34m.\u001b[0m\u001b[0mdataset\u001b[0m\u001b[0;34m.\u001b[0m\u001b[0msize\u001b[0m \u001b[0;34m>\u001b[0m \u001b[0;36m1\u001b[0m\u001b[0;34m:\u001b[0m\u001b[0;34m\u001b[0m\u001b[0;34m\u001b[0m\u001b[0m\n\u001b[0;32m--> 199\u001b[0;31m             \u001b[0;32mraise\u001b[0m \u001b[0mValueError\u001b[0m\u001b[0;34m(\u001b[0m\u001b[0;34m\"`dataset` input should have multiple elements.\"\u001b[0m\u001b[0;34m)\u001b[0m\u001b[0;34m\u001b[0m\u001b[0;34m\u001b[0m\u001b[0m\n\u001b[0m\u001b[1;32m    200\u001b[0m \u001b[0;34m\u001b[0m\u001b[0m\n\u001b[1;32m    201\u001b[0m         \u001b[0mself\u001b[0m\u001b[0;34m.\u001b[0m\u001b[0md\u001b[0m\u001b[0;34m,\u001b[0m \u001b[0mself\u001b[0m\u001b[0;34m.\u001b[0m\u001b[0mn\u001b[0m \u001b[0;34m=\u001b[0m \u001b[0mself\u001b[0m\u001b[0;34m.\u001b[0m\u001b[0mdataset\u001b[0m\u001b[0;34m.\u001b[0m\u001b[0mshape\u001b[0m\u001b[0;34m\u001b[0m\u001b[0;34m\u001b[0m\u001b[0m\n",
      "\u001b[0;31mValueError\u001b[0m: `dataset` input should have multiple elements."
     ]
    }
   ],
   "source": [
    "for k in range(3,101, 2):\n",
    "    print(k)\n",
    "    x = KL_divergence(first_instance_85, k, kde_85)\n",
    "    y = KL_divergence(first_instance_210, k, kde_210)\n",
    "    z = KL_divergence(first_instance_485, k, kde_485)\n",
    "    print(x+y+z)\n",
    "    print('---------------------------')\n",
    "#k=19 optimal for minimizing KL divergence \n"
   ]
  },
  {
   "cell_type": "code",
   "execution_count": 204,
   "metadata": {},
   "outputs": [],
   "source": [
    "def bootstrapped_log_prob(data, target, k):\n",
    "    assert k % 2 == 1\n",
    "    assert data.shape == target.shape\n",
    "\n",
    "    window_shape = (1, k)\n",
    "    neighbors_matrix = np.lib.stride_tricks.sliding_window_view(data, window_shape)\n",
    "\n",
    "    pdf = np.zeros(target.shape)\n",
    "    for i in range(neighbors_matrix.shape[0]):\n",
    "        print(i)\n",
    "        for j in range(neighbors_matrix.shape[1]):\n",
    "            window_data = neighbors_matrix[i, j, :].squeeze()\n",
    "            kde = gaussian_kde(window_data)\n",
    "            pdf[i, j] = kde.evaluate(target[i, j + k//2])\n",
    "\n",
    "    pdf[pdf == 0] = np.finfo(float).eps\n",
    "    log_probs = np.log(pdf)\n",
    "    return np.sum(log_probs)"
   ]
  },
  {
   "cell_type": "code",
   "execution_count": 177,
   "metadata": {},
   "outputs": [],
   "source": [
    "THROWOUT_DATA = 100\n"
   ]
  },
  {
   "cell_type": "code",
   "execution_count": 178,
   "metadata": {},
   "outputs": [],
   "source": [
    "df_04 = df[df['alpha']==0.4]\n",
    "\n",
    "# drop duplicates based on hidden_size\n",
    "df_04 = df_04.drop_duplicates(subset=['hidden_size'])\n",
    "\n",
    "# extract the float values\n",
    "values_04 = df_04.iloc[:, THROWOUT_DATA + 3:].values.astype(float)\n",
    "\n",
    "# create a dictionary that maps each row index to the hidden_size associated with it\n",
    "size_dict_04 = {i: size for i, size in enumerate(df_04['hidden_size'])}"
   ]
  },
  {
   "cell_type": "code",
   "execution_count": 191,
   "metadata": {},
   "outputs": [],
   "source": [
    "def histogram_estimator(data, target, k, num_bins=10):\n",
    "    assert k % 2 == 1\n",
    "    assert data.shape == target.shape\n",
    "    \n",
    "    window_shape = (1, k)\n",
    "    neighbors_matrix = np.lib.stride_tricks.sliding_window_view(data, window_shape)\n",
    "\n",
    "    # Compute the min and max values for bin edges\n",
    "    data_min, data_max = np.min(data), np.max(data)\n",
    "\n",
    "    # Compute the bin edges\n",
    "    bin_edges = np.linspace(data_min, data_max, num_bins + 1)\n",
    "\n",
    "    # Digitize the data to find bin indices for each element in the sliding windows\n",
    "    bin_indices = np.digitize(neighbors_matrix, bin_edges) - 1\n",
    "    \n",
    "    # Define a function to compute the histogram for each window\n",
    "    def window_histogram(window):\n",
    "        hist, _ = np.histogram(window, bins=bin_edges)\n",
    "        return hist\n",
    "\n",
    "    # Compute histograms for each window\n",
    "    histogram_matrix = np.apply_along_axis(window_histogram, 2, neighbors_matrix)\n",
    "\n",
    "    # Normalize the histograms to obtain a density estimate\n",
    "    density_estimate = histogram_matrix / (np.sum(histogram_matrix, axis=2, keepdims=True) + np.finfo(float).eps)\n",
    "\n",
    "    # Find the bin indices for the target values\n",
    "    target_bin_indices = np.digitize(target, bin_edges) - 1\n",
    "\n",
    "    # Get the density estimates from the histogram matrix for the target values\n",
    "    pdf = density_estimate[np.arange(target.shape[0]).reshape(-1, 1), np.arange(target.shape[1] - k + 1), target_bin_indices[:, k//2]]\n",
    "\n",
    "    # Ensure that the probability is never 0\n",
    "    pdf[pdf == 0] = np.finfo(float).eps\n",
    "\n",
    "    log_probs = np.log(pdf)\n",
    "    return np.sum(log_probs)"
   ]
  },
  {
   "cell_type": "code",
   "execution_count": 192,
   "metadata": {},
   "outputs": [],
   "source": [
    "def no_cross_term(A, B, E, alpha, beta, size_keys, size_values, values_shape):\n",
    "    i_indices, j_indices = np.meshgrid(np.arange(values_shape[0]), np.arange(values_shape[1]), indexing='ij')\n",
    "    N = np.interp(i_indices, size_keys, size_values) * 602\n",
    "    D = (j_indices + THROWOUT_DATA) * 20000\n",
    "    return (E + A * (N ** (-1 * alpha)) + B * (D ** (-1 * beta)))\n",
    "\n",
    "def cross_term(A, B, E, alpha, beta, F, gamma, kappa, size_keys, size_values, values_shape):\n",
    "    i_indices, j_indices = np.meshgrid(np.arange(values_shape[0]), np.arange(values_shape[1]), indexing='ij')\n",
    "    N = np.interp(i_indices, size_keys, size_values) * 602\n",
    "    D = (j_indices + THROWOUT_DATA) * 20000\n",
    "    return (E + A * (N ** (-1 * alpha)) + B * (D ** (-1 * beta)) + F * (N ** (-1 * gamma)) * (D ** (-1 * kappa)))\n",
    "\n",
    "def bootstrap_no_cross(A, B, E, alpha, beta, values, size_dict):\n",
    "    size_keys, size_values = np.array(list(size_dict.keys())), np.array(list(size_dict.values()))\n",
    "    predictions = no_cross_term(A, B, E, alpha, beta, size_keys, size_values, values.shape)\n",
    "    errors = values - predictions\n",
    "    return -1*histogram_estimator(errors, errors, 19)\n",
    "\n",
    "def bootstrap_cross(A, B, E, alpha, beta, F, gamma, kappa, values, size_dict):\n",
    "    size_keys, size_values = np.array(list(size_dict.keys())), np.array(list(size_dict.values()))\n",
    "    predictions = cross_term(A, B, E, alpha, beta, F, gamma, kappa, size_keys, size_values, values.shape)\n",
    "    errors = values - predictions\n",
    "    return -1*histogram_estimator(errors, errors, 19)\n",
    "\n",
    "def OLS_no_cross(A, B, E, alpha, beta, values, size_dict):\n",
    "    size_keys, size_values = np.array(list(size_dict.keys())), np.array(list(size_dict.values()))\n",
    "    predictions = no_cross_term(A, B, E, alpha, beta, size_keys, size_values, values.shape)\n",
    "    errors = values - predictions\n",
    "    return np.sum(errors ** 2)\n",
    "\n",
    "def OLS_cross(A, B, E, alpha, beta, F, gamma, kappa, values, size_dict):\n",
    "    size_keys, size_values = np.array(list(size_dict.keys())), np.array(list(size_dict.values()))\n",
    "    predictions = cross_term(A, B, E, alpha, beta, F, gamma, kappa, size_keys, size_values, values.shape)\n",
    "    errors = values - predictions\n",
    "    return np.sum(errors ** 2)\n"
   ]
  },
  {
   "cell_type": "code",
   "execution_count": 181,
   "metadata": {},
   "outputs": [
    {
     "name": "stdout",
     "output_type": "stream",
     "text": [
      "[1.69036189e+01 2.02595153e+03 0.00000000e+00 4.16771890e-01\n",
      " 5.39633712e-01]\n"
     ]
    }
   ],
   "source": [
    "from scipy.optimize import minimize\n",
    "OLS_no_cross_results = minimize(lambda params : OLS_no_cross(*params,values_04,size_dict_04),[17, 2026, 0.1, 0.42, 0.54] ,bounds = [(1e-8,np.inf), (1e-8,np.inf), (0,np.inf), (1e-8,5), (1e-8,5)])\n",
    "print(OLS_no_cross_results.x)"
   ]
  },
  {
   "cell_type": "code",
   "execution_count": 184,
   "metadata": {},
   "outputs": [
    {
     "name": "stdout",
     "output_type": "stream",
     "text": [
      "[1.37749447e+01 2.38405483e+03 1.00000000e-08 4.18155118e-01\n",
      " 5.53506502e-01 1.19599278e+01 3.74999541e-01 7.90865282e-02]\n"
     ]
    }
   ],
   "source": [
    "OLS_cross_results = minimize(lambda params: OLS_cross(*params, values_04, size_dict_04), [10,2000,0.1, 0.4, 0.3, 10, 0.2, 0.2], bounds = [(1e-8,np.inf), (1e-8,np.inf), (1e-8,np.inf), (1e-8,5), (1e-8,5), (1e-8,np.inf), (1e-8,5), (1e-8,5)])\n",
    "print(OLS_cross_results.x)"
   ]
  },
  {
   "cell_type": "code",
   "execution_count": 196,
   "metadata": {},
   "outputs": [],
   "source": [
    "import matplotlib.pyplot as plt\n",
    "# Assuming you already have the filtered_df DataFrame and df_85, df_210, and df_485 are created as you provided\n",
    "# Calculate variance down each column\n",
    "var_85 = df_85.var(axis=0).to_frame().T\n",
    "var_210 = df_210.var(axis=0).to_frame().T\n",
    "var_485 = df_485.var(axis=0).to_frame().T"
   ]
  },
  {
   "cell_type": "code",
   "execution_count": 197,
   "metadata": {},
   "outputs": [
    {
     "data": {
      "image/png": "[encoded data removed]",
      "text/plain": [
       "<Figure size 720x432 with 1 Axes>"
      ]
     },
     "metadata": {
      "needs_background": "light"
     },
     "output_type": "display_data"
    }
   ],
   "source": [
    "# Plot the variances\n",
    "plt.figure(figsize=(10, 6))\n",
    "plt.plot(var_85.columns, var_85.iloc[0], label=\"85\")\n",
    "plt.plot(var_210.columns, var_210.iloc[0], label=\"210\")\n",
    "plt.plot(var_485.columns, var_485.iloc[0], label=\"485\")\n",
    "\n",
    "# Set labels and title\n",
    "plt.xlabel(\"Iteration\")\n",
    "plt.ylabel(\"Sample Variance\")\n",
    "plt.title(\"Variances against Iteration\")\n",
    "\n",
    "# Add legend\n",
    "plt.legend(title=\"Hidden Size\")\n",
    "\n",
    "# Show the plot\n",
    "plt.show()"
   ]
  },
  {
   "cell_type": "code",
   "execution_count": 211,
   "metadata": {},
   "outputs": [
    {
     "data": {
      "image/png": "[encoded data removed]",
      "text/plain": [
       "<Figure size 720x432 with 1 Axes>"
      ]
     },
     "metadata": {
      "needs_background": "light"
     },
     "output_type": "display_data"
    }
   ],
   "source": [
    "# Calculate the mean of the variances for each hidden size\n",
    "mean_var_85 = var_85.mean(axis=1).values[0]\n",
    "mean_var_210 = var_210.mean(axis=1).values[0]\n",
    "mean_var_485 = var_485.mean(axis=1).values[0]\n",
    "\n",
    "# Prepare data for plotting\n",
    "hidden_sizes = np.log(np.array([85, 210, 485]))\n",
    "mean_vars = np.log(np.array([mean_var_85, mean_var_210, mean_var_485]))\n",
    "\n",
    "# Calculate the best-fit line\n",
    "coefficients = np.polyfit(hidden_sizes, mean_vars, 1)\n",
    "best_fit_line = np.poly1d(coefficients)\n",
    "\n",
    "# Plot the mean variances against the hidden sizes\n",
    "plt.figure(figsize=(10, 6))\n",
    "plt.plot(hidden_sizes, mean_vars, 'o', label=\"Mean Variances\")\n",
    "plt.plot(hidden_sizes, best_fit_line(hidden_sizes), '-', label=\"Best-fit Line\")\n",
    "\n",
    "# Set labels and title\n",
    "plt.xlabel(\"Hidden Size\")\n",
    "plt.ylabel(\"Mean Variance\")\n",
    "plt.title(\"Mean Variance vs Hidden Size\")\n",
    "\n",
    "# Add legend\n",
    "plt.legend()\n",
    "\n",
    "# Show the plot\n",
    "plt.show()"
   ]
  },
  {
   "cell_type": "code",
   "execution_count": 199,
   "metadata": {},
   "outputs": [
    {
     "name": "stdout",
     "output_type": "stream",
     "text": [
      "-3584.5094636801045\n"
     ]
    }
   ],
   "source": [
    "OLS_no_cross_coeffs_0_4 = OLS_no_cross_results.x\n",
    "OLS_cross_coeffs_0_4 = OLS_cross_results.x\n",
    "\n",
    "size_keys_04, size_values_04 = np.array(list(size_dict_04.keys())), np.array(list(size_dict_04.values()))\n",
    "residuals_no_cross = values_04 - no_cross_term(*OLS_no_cross_coeffs_0_4, size_keys_04, size_values_04, values_04.shape)\n",
    "print(np.sum(residuals_no_cross))"
   ]
  },
  {
   "cell_type": "code",
   "execution_count": 200,
   "metadata": {},
   "outputs": [
    {
     "name": "stdout",
     "output_type": "stream",
     "text": [
      "-3462.0743785388267\n"
     ]
    }
   ],
   "source": [
    "residuals_cross = values_04 - cross_term(*OLS_cross_coeffs_0_4, size_keys_04, size_values_04, values_04.shape)\n",
    "print(np.sum(residuals_cross))"
   ]
  },
  {
   "cell_type": "code",
   "execution_count": 206,
   "metadata": {},
   "outputs": [
    {
     "name": "stdout",
     "output_type": "stream",
     "text": [
      "0\n",
      "1\n",
      "2\n",
      "3\n",
      "4\n",
      "5\n",
      "6\n",
      "7\n",
      "8\n",
      "9\n",
      "10\n",
      "11\n",
      "12\n",
      "13\n",
      "14\n",
      "15\n",
      "16\n",
      "17\n",
      "18\n",
      "19\n",
      "20\n",
      "21\n",
      "22\n",
      "23\n",
      "24\n",
      "25\n",
      "12528836.954350756\n"
     ]
    }
   ],
   "source": [
    "residuals_cross_04_likelihood = bootstrapped_log_prob(residuals_cross, residuals_cross, 19)\n",
    "print(residuals_cross_04_likelihood)"
   ]
  },
  {
   "cell_type": "code",
   "execution_count": 208,
   "metadata": {},
   "outputs": [
    {
     "name": "stdout",
     "output_type": "stream",
     "text": [
      "-0.001332899968637417\n",
      "-0.001380037523554364\n"
     ]
    }
   ],
   "source": [
    "print(np.mean(residuals_cross))\n",
    "print(np.mean(residuals_no_cross))"
   ]
  },
  {
   "cell_type": "code",
   "execution_count": 217,
   "metadata": {},
   "outputs": [],
   "source": [
    "df_02 = df[df['alpha']==0.2]\n",
    "\n",
    "# drop duplicates based on hidden_size\n",
    "df_02 = df_02.drop_duplicates(subset=['hidden_size'])\n",
    "\n",
    "# extract the float values\n",
    "values_02 = df_02.iloc[:, THROWOUT_DATA + 3:].values.astype(float)\n",
    "\n",
    "# create a dictionary that maps each row index to the hidden_size associated with it\n",
    "size_dict_02 = {i: size for i, size in enumerate(df_02['hidden_size'])}"
   ]
  },
  {
   "cell_type": "code",
   "execution_count": 218,
   "metadata": {},
   "outputs": [
    {
     "name": "stdout",
     "output_type": "stream",
     "text": [
      "[1.58309093e+01 6.19689636e+02 0.00000000e+00 3.73576599e-01\n",
      " 4.65688521e-01]\n"
     ]
    }
   ],
   "source": [
    "OLS_no_cross_results_02 = minimize(lambda params : OLS_no_cross(*params,values_02,size_dict_02),[17, 2026, 0.1, 0.2, 0.2/1.2] ,bounds = [(1e-8,np.inf), (1e-8,np.inf), (0,np.inf), (1e-8,5), (1e-8,5)])\n",
    "print(OLS_no_cross_results_02.x)"
   ]
  },
  {
   "cell_type": "code",
   "execution_count": 219,
   "metadata": {},
   "outputs": [
    {
     "name": "stdout",
     "output_type": "stream",
     "text": [
      "[1.12498866e+01 6.19804157e+02 1.00000000e-08 3.73583580e-01\n",
      " 4.65699406e-01 4.58023059e+00 3.73543150e-01 1.00000000e-08]\n"
     ]
    }
   ],
   "source": [
    "OLS_cross_results_02 = minimize(lambda params: OLS_cross(*params, values_02, size_dict_02), [10,2000,0.1, 0.2, 0.2/1.2, 10, 0.2, 0.2], bounds = [(1e-8,np.inf), (1e-8,np.inf), (1e-8,np.inf), (1e-8,5), (1e-8,5), (1e-8,np.inf), (1e-8,5), (1e-8,5)])\n",
    "print(OLS_cross_results_02.x)"
   ]
  },
  {
   "cell_type": "code",
   "execution_count": 221,
   "metadata": {},
   "outputs": [
    {
     "name": "stdout",
     "output_type": "stream",
     "text": [
      "-0.0004264807318696463\n",
      "0.0003358480648907004\n",
      "-0.00042567450209332017\n",
      "0.00033584807708556805\n"
     ]
    }
   ],
   "source": [
    "OLS_no_cross_coeffs_02 = OLS_no_cross_results_02.x\n",
    "OLS_cross_coeffs_02 = OLS_cross_results_02.x\n",
    "\n",
    "size_keys_02, size_values_02 = np.array(list(size_dict_02.keys())), np.array(list(size_dict_02.values()))\n",
    "residuals_no_cross_02 = values_02 - no_cross_term(*OLS_no_cross_coeffs_02, size_keys_02, size_values_02, values_02.shape)\n",
    "print(np.mean(residuals_no_cross_02))\n",
    "print(np.mean(residuals_no_cross_02 ** 2))\n",
    "residuals_cross_02 = values_02 - cross_term(*OLS_cross_coeffs_02, size_keys_02, size_values_02, values_02.shape)\n",
    "print(np.mean(residuals_cross_02))\n",
    "print(np.mean(residuals_cross_02 ** 2))"
   ]
  },
  {
   "cell_type": "code",
   "execution_count": 222,
   "metadata": {},
   "outputs": [
    {
     "name": "stdout",
     "output_type": "stream",
     "text": [
      "0\n",
      "1\n",
      "2\n",
      "3\n",
      "4\n",
      "5\n",
      "6\n",
      "7\n",
      "8\n",
      "9\n",
      "10\n",
      "11\n",
      "12\n",
      "13\n",
      "14\n",
      "7064598.452468417\n"
     ]
    }
   ],
   "source": [
    "residuals_no_cross_02_likelihood = bootstrapped_log_prob(residuals_no_cross_02, residuals_no_cross_02, 19)\n",
    "print(residuals_no_cross_02_likelihood)"
   ]
  },
  {
   "cell_type": "code",
   "execution_count": null,
   "metadata": {},
   "outputs": [],
   "source": [
    "residuals_cross_02_likelihood = bootstrapped_log_prob(residuals_cross_02, residuals_cross_02, 19)\n",
    "print(residuals_cross_02_likelihood)"
   ]
  },
  {
   "cell_type": "code",
   "execution_count": 223,
   "metadata": {},
   "outputs": [],
   "source": [
    "df_08 = df[df['alpha']==0.8]\n",
    "# drop duplicates based on hidden_size\n",
    "df_08 = df_08.drop_duplicates(subset=['hidden_size'])\n",
    "\n",
    "# extract the float values\n",
    "values_08 = df_08.iloc[:, THROWOUT_DATA + 3:].values.astype(float)\n",
    "\n",
    "# create a dictionary that maps each row index to the hidden_size associated with it\n",
    "size_dict_08 = {i: size for i, size in enumerate(df_08['hidden_size'])}"
   ]
  },
  {
   "cell_type": "code",
   "execution_count": 224,
   "metadata": {},
   "outputs": [
    {
     "name": "stdout",
     "output_type": "stream",
     "text": [
      "[9.00011600e+02 9.78305313e+03 0.00000000e+00 8.52590124e-01\n",
      " 6.47383993e-01]\n"
     ]
    }
   ],
   "source": [
    "OLS_no_cross_results_08 = minimize(lambda params : OLS_no_cross(*params,values_08,size_dict_08),[10, 2000, 0.1, 0.8, 0.8/1.8] ,bounds = [(1e-8,np.inf), (1e-8,np.inf), (0,np.inf), (1e-8,5), (1e-8,5)])\n",
    "print(OLS_no_cross_results_08.x)"
   ]
  },
  {
   "cell_type": "code",
   "execution_count": 232,
   "metadata": {},
   "outputs": [
    {
     "ename": "KeyboardInterrupt",
     "evalue": "",
     "output_type": "error",
     "traceback": [
      "\u001b[0;31m---------------------------------------------------------------------------\u001b[0m",
      "\u001b[0;31mKeyboardInterrupt\u001b[0m                         Traceback (most recent call last)",
      "\u001b[0;32m<ipython-input-232-f2aa31952d0e>\u001b[0m in \u001b[0;36m<module>\u001b[0;34m\u001b[0m\n\u001b[0;32m----> 1\u001b[0;31m \u001b[0mOLS_cross_results_08\u001b[0m \u001b[0;34m=\u001b[0m \u001b[0mminimize\u001b[0m\u001b[0;34m(\u001b[0m\u001b[0;32mlambda\u001b[0m \u001b[0mparams\u001b[0m\u001b[0;34m:\u001b[0m \u001b[0mOLS_cross\u001b[0m\u001b[0;34m(\u001b[0m\u001b[0;34m*\u001b[0m\u001b[0mparams\u001b[0m\u001b[0;34m,\u001b[0m \u001b[0mvalues_08\u001b[0m\u001b[0;34m,\u001b[0m \u001b[0msize_dict_08\u001b[0m\u001b[0;34m)\u001b[0m\u001b[0;34m,\u001b[0m \u001b[0;34m[\u001b[0m\u001b[0;36m900\u001b[0m\u001b[0;34m,\u001b[0m\u001b[0;36m1000\u001b[0m\u001b[0;34m,\u001b[0m\u001b[0;36m0.1\u001b[0m\u001b[0;34m,\u001b[0m \u001b[0;36m0.8\u001b[0m\u001b[0;34m,\u001b[0m \u001b[0;36m0.8\u001b[0m\u001b[0;34m/\u001b[0m\u001b[0;36m1.8\u001b[0m\u001b[0;34m,\u001b[0m \u001b[0;36m1\u001b[0m\u001b[0;34m,\u001b[0m \u001b[0;36m0.3\u001b[0m\u001b[0;34m,\u001b[0m \u001b[0;36m0.3\u001b[0m\u001b[0;34m]\u001b[0m\u001b[0;34m,\u001b[0m \u001b[0mbounds\u001b[0m \u001b[0;34m=\u001b[0m \u001b[0;34m[\u001b[0m\u001b[0;34m(\u001b[0m\u001b[0;36m1e-8\u001b[0m\u001b[0;34m,\u001b[0m\u001b[0mnp\u001b[0m\u001b[0;34m.\u001b[0m\u001b[0minf\u001b[0m\u001b[0;34m)\u001b[0m\u001b[0;34m,\u001b[0m \u001b[0;34m(\u001b[0m\u001b[0;36m1e-8\u001b[0m\u001b[0;34m,\u001b[0m\u001b[0mnp\u001b[0m\u001b[0;34m.\u001b[0m\u001b[0minf\u001b[0m\u001b[0;34m)\u001b[0m\u001b[0;34m,\u001b[0m \u001b[0;34m(\u001b[0m\u001b[0;36m1e-8\u001b[0m\u001b[0;34m,\u001b[0m\u001b[0mnp\u001b[0m\u001b[0;34m.\u001b[0m\u001b[0minf\u001b[0m\u001b[0;34m)\u001b[0m\u001b[0;34m,\u001b[0m \u001b[0;34m(\u001b[0m\u001b[0;36m1e-8\u001b[0m\u001b[0;34m,\u001b[0m\u001b[0;36m5\u001b[0m\u001b[0;34m)\u001b[0m\u001b[0;34m,\u001b[0m \u001b[0;34m(\u001b[0m\u001b[0;36m1e-8\u001b[0m\u001b[0;34m,\u001b[0m\u001b[0;36m5\u001b[0m\u001b[0;34m)\u001b[0m\u001b[0;34m,\u001b[0m \u001b[0;34m(\u001b[0m\u001b[0;36m0\u001b[0m\u001b[0;34m,\u001b[0m\u001b[0mnp\u001b[0m\u001b[0;34m.\u001b[0m\u001b[0minf\u001b[0m\u001b[0;34m)\u001b[0m\u001b[0;34m,\u001b[0m \u001b[0;34m(\u001b[0m\u001b[0;36m0\u001b[0m\u001b[0;34m,\u001b[0m\u001b[0;36m5\u001b[0m\u001b[0;34m)\u001b[0m\u001b[0;34m,\u001b[0m \u001b[0;34m(\u001b[0m\u001b[0;36m0\u001b[0m\u001b[0;34m,\u001b[0m\u001b[0mnp\u001b[0m\u001b[0;34m.\u001b[0m\u001b[0minf\u001b[0m\u001b[0;34m)\u001b[0m\u001b[0;34m]\u001b[0m\u001b[0;34m)\u001b[0m\u001b[0;34m\u001b[0m\u001b[0;34m\u001b[0m\u001b[0m\n\u001b[0m\u001b[1;32m      2\u001b[0m \u001b[0mprint\u001b[0m\u001b[0;34m(\u001b[0m\u001b[0mOLS_cross_results_08\u001b[0m\u001b[0;34m.\u001b[0m\u001b[0mx\u001b[0m\u001b[0;34m)\u001b[0m\u001b[0;34m\u001b[0m\u001b[0;34m\u001b[0m\u001b[0m\n",
      "\u001b[0;32m~/opt/anaconda3/lib/python3.8/site-packages/scipy/optimize/_minimize.py\u001b[0m in \u001b[0;36mminimize\u001b[0;34m(fun, x0, args, method, jac, hess, hessp, bounds, constraints, tol, callback, options)\u001b[0m\n\u001b[1;32m    694\u001b[0m                                  **options)\n\u001b[1;32m    695\u001b[0m     \u001b[0;32melif\u001b[0m \u001b[0mmeth\u001b[0m \u001b[0;34m==\u001b[0m \u001b[0;34m'l-bfgs-b'\u001b[0m\u001b[0;34m:\u001b[0m\u001b[0;34m\u001b[0m\u001b[0;34m\u001b[0m\u001b[0m\n\u001b[0;32m--> 696\u001b[0;31m         res = _minimize_lbfgsb(fun, x0, args, jac, bounds,\n\u001b[0m\u001b[1;32m    697\u001b[0m                                callback=callback, **options)\n\u001b[1;32m    698\u001b[0m     \u001b[0;32melif\u001b[0m \u001b[0mmeth\u001b[0m \u001b[0;34m==\u001b[0m \u001b[0;34m'tnc'\u001b[0m\u001b[0;34m:\u001b[0m\u001b[0;34m\u001b[0m\u001b[0;34m\u001b[0m\u001b[0m\n",
      "\u001b[0;32m~/opt/anaconda3/lib/python3.8/site-packages/scipy/optimize/_lbfgsb_py.py\u001b[0m in \u001b[0;36m_minimize_lbfgsb\u001b[0;34m(fun, x0, args, jac, bounds, disp, maxcor, ftol, gtol, eps, maxfun, maxiter, iprint, callback, maxls, finite_diff_rel_step, **unknown_options)\u001b[0m\n\u001b[1;32m    357\u001b[0m             \u001b[0;31m# until the completion of the current minimization iteration.\u001b[0m\u001b[0;34m\u001b[0m\u001b[0;34m\u001b[0m\u001b[0;34m\u001b[0m\u001b[0m\n\u001b[1;32m    358\u001b[0m             \u001b[0;31m# Overwrite f and g:\u001b[0m\u001b[0;34m\u001b[0m\u001b[0;34m\u001b[0m\u001b[0;34m\u001b[0m\u001b[0m\n\u001b[0;32m--> 359\u001b[0;31m             \u001b[0mf\u001b[0m\u001b[0;34m,\u001b[0m \u001b[0mg\u001b[0m \u001b[0;34m=\u001b[0m \u001b[0mfunc_and_grad\u001b[0m\u001b[0;34m(\u001b[0m\u001b[0mx\u001b[0m\u001b[0;34m)\u001b[0m\u001b[0;34m\u001b[0m\u001b[0;34m\u001b[0m\u001b[0m\n\u001b[0m\u001b[1;32m    360\u001b[0m         \u001b[0;32melif\u001b[0m \u001b[0mtask_str\u001b[0m\u001b[0;34m.\u001b[0m\u001b[0mstartswith\u001b[0m\u001b[0;34m(\u001b[0m\u001b[0;34mb'NEW_X'\u001b[0m\u001b[0;34m)\u001b[0m\u001b[0;34m:\u001b[0m\u001b[0;34m\u001b[0m\u001b[0;34m\u001b[0m\u001b[0m\n\u001b[1;32m    361\u001b[0m             \u001b[0;31m# new iteration\u001b[0m\u001b[0;34m\u001b[0m\u001b[0;34m\u001b[0m\u001b[0;34m\u001b[0m\u001b[0m\n",
      "\u001b[0;32m~/opt/anaconda3/lib/python3.8/site-packages/scipy/optimize/_differentiable_functions.py\u001b[0m in \u001b[0;36mfun_and_grad\u001b[0;34m(self, x)\u001b[0m\n\u001b[1;32m    284\u001b[0m             \u001b[0mself\u001b[0m\u001b[0;34m.\u001b[0m\u001b[0m_update_x_impl\u001b[0m\u001b[0;34m(\u001b[0m\u001b[0mx\u001b[0m\u001b[0;34m)\u001b[0m\u001b[0;34m\u001b[0m\u001b[0;34m\u001b[0m\u001b[0m\n\u001b[1;32m    285\u001b[0m         \u001b[0mself\u001b[0m\u001b[0;34m.\u001b[0m\u001b[0m_update_fun\u001b[0m\u001b[0;34m(\u001b[0m\u001b[0;34m)\u001b[0m\u001b[0;34m\u001b[0m\u001b[0;34m\u001b[0m\u001b[0m\n\u001b[0;32m--> 286\u001b[0;31m         \u001b[0mself\u001b[0m\u001b[0;34m.\u001b[0m\u001b[0m_update_grad\u001b[0m\u001b[0;34m(\u001b[0m\u001b[0;34m)\u001b[0m\u001b[0;34m\u001b[0m\u001b[0;34m\u001b[0m\u001b[0m\n\u001b[0m\u001b[1;32m    287\u001b[0m         \u001b[0;32mreturn\u001b[0m \u001b[0mself\u001b[0m\u001b[0;34m.\u001b[0m\u001b[0mf\u001b[0m\u001b[0;34m,\u001b[0m \u001b[0mself\u001b[0m\u001b[0;34m.\u001b[0m\u001b[0mg\u001b[0m\u001b[0;34m\u001b[0m\u001b[0;34m\u001b[0m\u001b[0m\n\u001b[1;32m    288\u001b[0m \u001b[0;34m\u001b[0m\u001b[0m\n",
      "\u001b[0;32m~/opt/anaconda3/lib/python3.8/site-packages/scipy/optimize/_differentiable_functions.py\u001b[0m in \u001b[0;36m_update_grad\u001b[0;34m(self)\u001b[0m\n\u001b[1;32m    254\u001b[0m     \u001b[0;32mdef\u001b[0m \u001b[0m_update_grad\u001b[0m\u001b[0;34m(\u001b[0m\u001b[0mself\u001b[0m\u001b[0;34m)\u001b[0m\u001b[0;34m:\u001b[0m\u001b[0;34m\u001b[0m\u001b[0;34m\u001b[0m\u001b[0m\n\u001b[1;32m    255\u001b[0m         \u001b[0;32mif\u001b[0m \u001b[0;32mnot\u001b[0m \u001b[0mself\u001b[0m\u001b[0;34m.\u001b[0m\u001b[0mg_updated\u001b[0m\u001b[0;34m:\u001b[0m\u001b[0;34m\u001b[0m\u001b[0;34m\u001b[0m\u001b[0m\n\u001b[0;32m--> 256\u001b[0;31m             \u001b[0mself\u001b[0m\u001b[0;34m.\u001b[0m\u001b[0m_update_grad_impl\u001b[0m\u001b[0;34m(\u001b[0m\u001b[0;34m)\u001b[0m\u001b[0;34m\u001b[0m\u001b[0;34m\u001b[0m\u001b[0m\n\u001b[0m\u001b[1;32m    257\u001b[0m             \u001b[0mself\u001b[0m\u001b[0;34m.\u001b[0m\u001b[0mg_updated\u001b[0m \u001b[0;34m=\u001b[0m \u001b[0;32mTrue\u001b[0m\u001b[0;34m\u001b[0m\u001b[0;34m\u001b[0m\u001b[0m\n\u001b[1;32m    258\u001b[0m \u001b[0;34m\u001b[0m\u001b[0m\n",
      "\u001b[0;32m~/opt/anaconda3/lib/python3.8/site-packages/scipy/optimize/_differentiable_functions.py\u001b[0m in \u001b[0;36mupdate_grad\u001b[0;34m()\u001b[0m\n\u001b[1;32m    171\u001b[0m                 \u001b[0mself\u001b[0m\u001b[0;34m.\u001b[0m\u001b[0m_update_fun\u001b[0m\u001b[0;34m(\u001b[0m\u001b[0;34m)\u001b[0m\u001b[0;34m\u001b[0m\u001b[0;34m\u001b[0m\u001b[0m\n\u001b[1;32m    172\u001b[0m                 \u001b[0mself\u001b[0m\u001b[0;34m.\u001b[0m\u001b[0mngev\u001b[0m \u001b[0;34m+=\u001b[0m \u001b[0;36m1\u001b[0m\u001b[0;34m\u001b[0m\u001b[0;34m\u001b[0m\u001b[0m\n\u001b[0;32m--> 173\u001b[0;31m                 self.g = approx_derivative(fun_wrapped, self.x, f0=self.f,\n\u001b[0m\u001b[1;32m    174\u001b[0m                                            **finite_diff_options)\n\u001b[1;32m    175\u001b[0m \u001b[0;34m\u001b[0m\u001b[0m\n",
      "\u001b[0;32m~/opt/anaconda3/lib/python3.8/site-packages/scipy/optimize/_numdiff.py\u001b[0m in \u001b[0;36mapprox_derivative\u001b[0;34m(fun, x0, method, rel_step, abs_step, f0, bounds, sparsity, as_linear_operator, args, kwargs)\u001b[0m\n\u001b[1;32m    503\u001b[0m \u001b[0;34m\u001b[0m\u001b[0m\n\u001b[1;32m    504\u001b[0m         \u001b[0;32mif\u001b[0m \u001b[0msparsity\u001b[0m \u001b[0;32mis\u001b[0m \u001b[0;32mNone\u001b[0m\u001b[0;34m:\u001b[0m\u001b[0;34m\u001b[0m\u001b[0;34m\u001b[0m\u001b[0m\n\u001b[0;32m--> 505\u001b[0;31m             return _dense_difference(fun_wrapped, x0, f0, h,\n\u001b[0m\u001b[1;32m    506\u001b[0m                                      use_one_sided, method)\n\u001b[1;32m    507\u001b[0m         \u001b[0;32melse\u001b[0m\u001b[0;34m:\u001b[0m\u001b[0;34m\u001b[0m\u001b[0;34m\u001b[0m\u001b[0m\n",
      "\u001b[0;32m~/opt/anaconda3/lib/python3.8/site-packages/scipy/optimize/_numdiff.py\u001b[0m in \u001b[0;36m_dense_difference\u001b[0;34m(fun, x0, f0, h, use_one_sided, method)\u001b[0m\n\u001b[1;32m    574\u001b[0m             \u001b[0mx\u001b[0m \u001b[0;34m=\u001b[0m \u001b[0mx0\u001b[0m \u001b[0;34m+\u001b[0m \u001b[0mh_vecs\u001b[0m\u001b[0;34m[\u001b[0m\u001b[0mi\u001b[0m\u001b[0;34m]\u001b[0m\u001b[0;34m\u001b[0m\u001b[0;34m\u001b[0m\u001b[0m\n\u001b[1;32m    575\u001b[0m             \u001b[0mdx\u001b[0m \u001b[0;34m=\u001b[0m \u001b[0mx\u001b[0m\u001b[0;34m[\u001b[0m\u001b[0mi\u001b[0m\u001b[0;34m]\u001b[0m \u001b[0;34m-\u001b[0m \u001b[0mx0\u001b[0m\u001b[0;34m[\u001b[0m\u001b[0mi\u001b[0m\u001b[0;34m]\u001b[0m  \u001b[0;31m# Recompute dx as exactly representable number.\u001b[0m\u001b[0;34m\u001b[0m\u001b[0;34m\u001b[0m\u001b[0m\n\u001b[0;32m--> 576\u001b[0;31m             \u001b[0mdf\u001b[0m \u001b[0;34m=\u001b[0m \u001b[0mfun\u001b[0m\u001b[0;34m(\u001b[0m\u001b[0mx\u001b[0m\u001b[0;34m)\u001b[0m \u001b[0;34m-\u001b[0m \u001b[0mf0\u001b[0m\u001b[0;34m\u001b[0m\u001b[0;34m\u001b[0m\u001b[0m\n\u001b[0m\u001b[1;32m    577\u001b[0m         \u001b[0;32melif\u001b[0m \u001b[0mmethod\u001b[0m \u001b[0;34m==\u001b[0m \u001b[0;34m'3-point'\u001b[0m \u001b[0;32mand\u001b[0m \u001b[0muse_one_sided\u001b[0m\u001b[0;34m[\u001b[0m\u001b[0mi\u001b[0m\u001b[0;34m]\u001b[0m\u001b[0;34m:\u001b[0m\u001b[0;34m\u001b[0m\u001b[0;34m\u001b[0m\u001b[0m\n\u001b[1;32m    578\u001b[0m             \u001b[0mx1\u001b[0m \u001b[0;34m=\u001b[0m \u001b[0mx0\u001b[0m \u001b[0;34m+\u001b[0m \u001b[0mh_vecs\u001b[0m\u001b[0;34m[\u001b[0m\u001b[0mi\u001b[0m\u001b[0;34m]\u001b[0m\u001b[0;34m\u001b[0m\u001b[0;34m\u001b[0m\u001b[0m\n",
      "\u001b[0;32m~/opt/anaconda3/lib/python3.8/site-packages/scipy/optimize/_numdiff.py\u001b[0m in \u001b[0;36mfun_wrapped\u001b[0;34m(x)\u001b[0m\n\u001b[1;32m    454\u001b[0m \u001b[0;34m\u001b[0m\u001b[0m\n\u001b[1;32m    455\u001b[0m     \u001b[0;32mdef\u001b[0m \u001b[0mfun_wrapped\u001b[0m\u001b[0;34m(\u001b[0m\u001b[0mx\u001b[0m\u001b[0;34m)\u001b[0m\u001b[0;34m:\u001b[0m\u001b[0;34m\u001b[0m\u001b[0;34m\u001b[0m\u001b[0m\n\u001b[0;32m--> 456\u001b[0;31m         \u001b[0mf\u001b[0m \u001b[0;34m=\u001b[0m \u001b[0mnp\u001b[0m\u001b[0;34m.\u001b[0m\u001b[0matleast_1d\u001b[0m\u001b[0;34m(\u001b[0m\u001b[0mfun\u001b[0m\u001b[0;34m(\u001b[0m\u001b[0mx\u001b[0m\u001b[0;34m,\u001b[0m \u001b[0;34m*\u001b[0m\u001b[0margs\u001b[0m\u001b[0;34m,\u001b[0m \u001b[0;34m**\u001b[0m\u001b[0mkwargs\u001b[0m\u001b[0;34m)\u001b[0m\u001b[0;34m)\u001b[0m\u001b[0;34m\u001b[0m\u001b[0;34m\u001b[0m\u001b[0m\n\u001b[0m\u001b[1;32m    457\u001b[0m         \u001b[0;32mif\u001b[0m \u001b[0mf\u001b[0m\u001b[0;34m.\u001b[0m\u001b[0mndim\u001b[0m \u001b[0;34m>\u001b[0m \u001b[0;36m1\u001b[0m\u001b[0;34m:\u001b[0m\u001b[0;34m\u001b[0m\u001b[0;34m\u001b[0m\u001b[0m\n\u001b[1;32m    458\u001b[0m             raise RuntimeError(\"`fun` return value has \"\n",
      "\u001b[0;32m~/opt/anaconda3/lib/python3.8/site-packages/scipy/optimize/_differentiable_functions.py\u001b[0m in \u001b[0;36mfun_wrapped\u001b[0;34m(x)\u001b[0m\n\u001b[1;32m    135\u001b[0m             \u001b[0;31m# Overwriting results in undefined behaviour because\u001b[0m\u001b[0;34m\u001b[0m\u001b[0;34m\u001b[0m\u001b[0;34m\u001b[0m\u001b[0m\n\u001b[1;32m    136\u001b[0m             \u001b[0;31m# fun(self.x) will change self.x, with the two no longer linked.\u001b[0m\u001b[0;34m\u001b[0m\u001b[0;34m\u001b[0m\u001b[0;34m\u001b[0m\u001b[0m\n\u001b[0;32m--> 137\u001b[0;31m             \u001b[0mfx\u001b[0m \u001b[0;34m=\u001b[0m \u001b[0mfun\u001b[0m\u001b[0;34m(\u001b[0m\u001b[0mnp\u001b[0m\u001b[0;34m.\u001b[0m\u001b[0mcopy\u001b[0m\u001b[0;34m(\u001b[0m\u001b[0mx\u001b[0m\u001b[0;34m)\u001b[0m\u001b[0;34m,\u001b[0m \u001b[0;34m*\u001b[0m\u001b[0margs\u001b[0m\u001b[0;34m)\u001b[0m\u001b[0;34m\u001b[0m\u001b[0;34m\u001b[0m\u001b[0m\n\u001b[0m\u001b[1;32m    138\u001b[0m             \u001b[0;31m# Make sure the function returns a true scalar\u001b[0m\u001b[0;34m\u001b[0m\u001b[0;34m\u001b[0m\u001b[0;34m\u001b[0m\u001b[0m\n\u001b[1;32m    139\u001b[0m             \u001b[0;32mif\u001b[0m \u001b[0;32mnot\u001b[0m \u001b[0mnp\u001b[0m\u001b[0;34m.\u001b[0m\u001b[0misscalar\u001b[0m\u001b[0;34m(\u001b[0m\u001b[0mfx\u001b[0m\u001b[0;34m)\u001b[0m\u001b[0;34m:\u001b[0m\u001b[0;34m\u001b[0m\u001b[0;34m\u001b[0m\u001b[0m\n",
      "\u001b[0;32m<ipython-input-232-f2aa31952d0e>\u001b[0m in \u001b[0;36m<lambda>\u001b[0;34m(params)\u001b[0m\n\u001b[0;32m----> 1\u001b[0;31m \u001b[0mOLS_cross_results_08\u001b[0m \u001b[0;34m=\u001b[0m \u001b[0mminimize\u001b[0m\u001b[0;34m(\u001b[0m\u001b[0;32mlambda\u001b[0m \u001b[0mparams\u001b[0m\u001b[0;34m:\u001b[0m \u001b[0mOLS_cross\u001b[0m\u001b[0;34m(\u001b[0m\u001b[0;34m*\u001b[0m\u001b[0mparams\u001b[0m\u001b[0;34m,\u001b[0m \u001b[0mvalues_08\u001b[0m\u001b[0;34m,\u001b[0m \u001b[0msize_dict_08\u001b[0m\u001b[0;34m)\u001b[0m\u001b[0;34m,\u001b[0m \u001b[0;34m[\u001b[0m\u001b[0;36m900\u001b[0m\u001b[0;34m,\u001b[0m\u001b[0;36m1000\u001b[0m\u001b[0;34m,\u001b[0m\u001b[0;36m0.1\u001b[0m\u001b[0;34m,\u001b[0m \u001b[0;36m0.8\u001b[0m\u001b[0;34m,\u001b[0m \u001b[0;36m0.8\u001b[0m\u001b[0;34m/\u001b[0m\u001b[0;36m1.8\u001b[0m\u001b[0;34m,\u001b[0m \u001b[0;36m1\u001b[0m\u001b[0;34m,\u001b[0m \u001b[0;36m0.3\u001b[0m\u001b[0;34m,\u001b[0m \u001b[0;36m0.3\u001b[0m\u001b[0;34m]\u001b[0m\u001b[0;34m,\u001b[0m \u001b[0mbounds\u001b[0m \u001b[0;34m=\u001b[0m \u001b[0;34m[\u001b[0m\u001b[0;34m(\u001b[0m\u001b[0;36m1e-8\u001b[0m\u001b[0;34m,\u001b[0m\u001b[0mnp\u001b[0m\u001b[0;34m.\u001b[0m\u001b[0minf\u001b[0m\u001b[0;34m)\u001b[0m\u001b[0;34m,\u001b[0m \u001b[0;34m(\u001b[0m\u001b[0;36m1e-8\u001b[0m\u001b[0;34m,\u001b[0m\u001b[0mnp\u001b[0m\u001b[0;34m.\u001b[0m\u001b[0minf\u001b[0m\u001b[0;34m)\u001b[0m\u001b[0;34m,\u001b[0m \u001b[0;34m(\u001b[0m\u001b[0;36m1e-8\u001b[0m\u001b[0;34m,\u001b[0m\u001b[0mnp\u001b[0m\u001b[0;34m.\u001b[0m\u001b[0minf\u001b[0m\u001b[0;34m)\u001b[0m\u001b[0;34m,\u001b[0m \u001b[0;34m(\u001b[0m\u001b[0;36m1e-8\u001b[0m\u001b[0;34m,\u001b[0m\u001b[0;36m5\u001b[0m\u001b[0;34m)\u001b[0m\u001b[0;34m,\u001b[0m \u001b[0;34m(\u001b[0m\u001b[0;36m1e-8\u001b[0m\u001b[0;34m,\u001b[0m\u001b[0;36m5\u001b[0m\u001b[0;34m)\u001b[0m\u001b[0;34m,\u001b[0m \u001b[0;34m(\u001b[0m\u001b[0;36m0\u001b[0m\u001b[0;34m,\u001b[0m\u001b[0mnp\u001b[0m\u001b[0;34m.\u001b[0m\u001b[0minf\u001b[0m\u001b[0;34m)\u001b[0m\u001b[0;34m,\u001b[0m \u001b[0;34m(\u001b[0m\u001b[0;36m0\u001b[0m\u001b[0;34m,\u001b[0m\u001b[0;36m5\u001b[0m\u001b[0;34m)\u001b[0m\u001b[0;34m,\u001b[0m \u001b[0;34m(\u001b[0m\u001b[0;36m0\u001b[0m\u001b[0;34m,\u001b[0m\u001b[0mnp\u001b[0m\u001b[0;34m.\u001b[0m\u001b[0minf\u001b[0m\u001b[0;34m)\u001b[0m\u001b[0;34m]\u001b[0m\u001b[0;34m)\u001b[0m\u001b[0;34m\u001b[0m\u001b[0;34m\u001b[0m\u001b[0m\n\u001b[0m\u001b[1;32m      2\u001b[0m \u001b[0mprint\u001b[0m\u001b[0;34m(\u001b[0m\u001b[0mOLS_cross_results_08\u001b[0m\u001b[0;34m.\u001b[0m\u001b[0mx\u001b[0m\u001b[0;34m)\u001b[0m\u001b[0;34m\u001b[0m\u001b[0;34m\u001b[0m\u001b[0m\n",
      "\u001b[0;32m<ipython-input-192-7742f9dbbe95>\u001b[0m in \u001b[0;36mOLS_cross\u001b[0;34m(A, B, E, alpha, beta, F, gamma, kappa, values, size_dict)\u001b[0m\n\u001b[1;32m     31\u001b[0m \u001b[0;32mdef\u001b[0m \u001b[0mOLS_cross\u001b[0m\u001b[0;34m(\u001b[0m\u001b[0mA\u001b[0m\u001b[0;34m,\u001b[0m \u001b[0mB\u001b[0m\u001b[0;34m,\u001b[0m \u001b[0mE\u001b[0m\u001b[0;34m,\u001b[0m \u001b[0malpha\u001b[0m\u001b[0;34m,\u001b[0m \u001b[0mbeta\u001b[0m\u001b[0;34m,\u001b[0m \u001b[0mF\u001b[0m\u001b[0;34m,\u001b[0m \u001b[0mgamma\u001b[0m\u001b[0;34m,\u001b[0m \u001b[0mkappa\u001b[0m\u001b[0;34m,\u001b[0m \u001b[0mvalues\u001b[0m\u001b[0;34m,\u001b[0m \u001b[0msize_dict\u001b[0m\u001b[0;34m)\u001b[0m\u001b[0;34m:\u001b[0m\u001b[0;34m\u001b[0m\u001b[0;34m\u001b[0m\u001b[0m\n\u001b[1;32m     32\u001b[0m     \u001b[0msize_keys\u001b[0m\u001b[0;34m,\u001b[0m \u001b[0msize_values\u001b[0m \u001b[0;34m=\u001b[0m \u001b[0mnp\u001b[0m\u001b[0;34m.\u001b[0m\u001b[0marray\u001b[0m\u001b[0;34m(\u001b[0m\u001b[0mlist\u001b[0m\u001b[0;34m(\u001b[0m\u001b[0msize_dict\u001b[0m\u001b[0;34m.\u001b[0m\u001b[0mkeys\u001b[0m\u001b[0;34m(\u001b[0m\u001b[0;34m)\u001b[0m\u001b[0;34m)\u001b[0m\u001b[0;34m)\u001b[0m\u001b[0;34m,\u001b[0m \u001b[0mnp\u001b[0m\u001b[0;34m.\u001b[0m\u001b[0marray\u001b[0m\u001b[0;34m(\u001b[0m\u001b[0mlist\u001b[0m\u001b[0;34m(\u001b[0m\u001b[0msize_dict\u001b[0m\u001b[0;34m.\u001b[0m\u001b[0mvalues\u001b[0m\u001b[0;34m(\u001b[0m\u001b[0;34m)\u001b[0m\u001b[0;34m)\u001b[0m\u001b[0;34m)\u001b[0m\u001b[0;34m\u001b[0m\u001b[0;34m\u001b[0m\u001b[0m\n\u001b[0;32m---> 33\u001b[0;31m     \u001b[0mpredictions\u001b[0m \u001b[0;34m=\u001b[0m \u001b[0mcross_term\u001b[0m\u001b[0;34m(\u001b[0m\u001b[0mA\u001b[0m\u001b[0;34m,\u001b[0m \u001b[0mB\u001b[0m\u001b[0;34m,\u001b[0m \u001b[0mE\u001b[0m\u001b[0;34m,\u001b[0m \u001b[0malpha\u001b[0m\u001b[0;34m,\u001b[0m \u001b[0mbeta\u001b[0m\u001b[0;34m,\u001b[0m \u001b[0mF\u001b[0m\u001b[0;34m,\u001b[0m \u001b[0mgamma\u001b[0m\u001b[0;34m,\u001b[0m \u001b[0mkappa\u001b[0m\u001b[0;34m,\u001b[0m \u001b[0msize_keys\u001b[0m\u001b[0;34m,\u001b[0m \u001b[0msize_values\u001b[0m\u001b[0;34m,\u001b[0m \u001b[0mvalues\u001b[0m\u001b[0;34m.\u001b[0m\u001b[0mshape\u001b[0m\u001b[0;34m)\u001b[0m\u001b[0;34m\u001b[0m\u001b[0;34m\u001b[0m\u001b[0m\n\u001b[0m\u001b[1;32m     34\u001b[0m     \u001b[0merrors\u001b[0m \u001b[0;34m=\u001b[0m \u001b[0mvalues\u001b[0m \u001b[0;34m-\u001b[0m \u001b[0mpredictions\u001b[0m\u001b[0;34m\u001b[0m\u001b[0;34m\u001b[0m\u001b[0m\n\u001b[1;32m     35\u001b[0m     \u001b[0;32mreturn\u001b[0m \u001b[0mnp\u001b[0m\u001b[0;34m.\u001b[0m\u001b[0msum\u001b[0m\u001b[0;34m(\u001b[0m\u001b[0merrors\u001b[0m \u001b[0;34m**\u001b[0m \u001b[0;36m2\u001b[0m\u001b[0;34m)\u001b[0m\u001b[0;34m\u001b[0m\u001b[0;34m\u001b[0m\u001b[0m\n",
      "\u001b[0;32m<ipython-input-192-7742f9dbbe95>\u001b[0m in \u001b[0;36mcross_term\u001b[0;34m(A, B, E, alpha, beta, F, gamma, kappa, size_keys, size_values, values_shape)\u001b[0m\n\u001b[1;32m      9\u001b[0m     \u001b[0mN\u001b[0m \u001b[0;34m=\u001b[0m \u001b[0mnp\u001b[0m\u001b[0;34m.\u001b[0m\u001b[0minterp\u001b[0m\u001b[0;34m(\u001b[0m\u001b[0mi_indices\u001b[0m\u001b[0;34m,\u001b[0m \u001b[0msize_keys\u001b[0m\u001b[0;34m,\u001b[0m \u001b[0msize_values\u001b[0m\u001b[0;34m)\u001b[0m \u001b[0;34m*\u001b[0m \u001b[0;36m602\u001b[0m\u001b[0;34m\u001b[0m\u001b[0;34m\u001b[0m\u001b[0m\n\u001b[1;32m     10\u001b[0m     \u001b[0mD\u001b[0m \u001b[0;34m=\u001b[0m \u001b[0;34m(\u001b[0m\u001b[0mj_indices\u001b[0m \u001b[0;34m+\u001b[0m \u001b[0mTHROWOUT_DATA\u001b[0m\u001b[0;34m)\u001b[0m \u001b[0;34m*\u001b[0m \u001b[0;36m20000\u001b[0m\u001b[0;34m\u001b[0m\u001b[0;34m\u001b[0m\u001b[0m\n\u001b[0;32m---> 11\u001b[0;31m     \u001b[0;32mreturn\u001b[0m \u001b[0;34m(\u001b[0m\u001b[0mE\u001b[0m \u001b[0;34m+\u001b[0m \u001b[0mA\u001b[0m \u001b[0;34m*\u001b[0m \u001b[0;34m(\u001b[0m\u001b[0mN\u001b[0m \u001b[0;34m**\u001b[0m \u001b[0;34m(\u001b[0m\u001b[0;34m-\u001b[0m\u001b[0;36m1\u001b[0m \u001b[0;34m*\u001b[0m \u001b[0malpha\u001b[0m\u001b[0;34m)\u001b[0m\u001b[0;34m)\u001b[0m \u001b[0;34m+\u001b[0m \u001b[0mB\u001b[0m \u001b[0;34m*\u001b[0m \u001b[0;34m(\u001b[0m\u001b[0mD\u001b[0m \u001b[0;34m**\u001b[0m \u001b[0;34m(\u001b[0m\u001b[0;34m-\u001b[0m\u001b[0;36m1\u001b[0m \u001b[0;34m*\u001b[0m \u001b[0mbeta\u001b[0m\u001b[0;34m)\u001b[0m\u001b[0;34m)\u001b[0m \u001b[0;34m+\u001b[0m \u001b[0mF\u001b[0m \u001b[0;34m*\u001b[0m \u001b[0;34m(\u001b[0m\u001b[0mN\u001b[0m \u001b[0;34m**\u001b[0m \u001b[0;34m(\u001b[0m\u001b[0;34m-\u001b[0m\u001b[0;36m1\u001b[0m \u001b[0;34m*\u001b[0m \u001b[0mgamma\u001b[0m\u001b[0;34m)\u001b[0m\u001b[0;34m)\u001b[0m \u001b[0;34m*\u001b[0m \u001b[0;34m(\u001b[0m\u001b[0mD\u001b[0m \u001b[0;34m**\u001b[0m \u001b[0;34m(\u001b[0m\u001b[0;34m-\u001b[0m\u001b[0;36m1\u001b[0m \u001b[0;34m*\u001b[0m \u001b[0mkappa\u001b[0m\u001b[0;34m)\u001b[0m\u001b[0;34m)\u001b[0m\u001b[0;34m)\u001b[0m\u001b[0;34m\u001b[0m\u001b[0;34m\u001b[0m\u001b[0m\n\u001b[0m\u001b[1;32m     12\u001b[0m \u001b[0;34m\u001b[0m\u001b[0m\n\u001b[1;32m     13\u001b[0m \u001b[0;32mdef\u001b[0m \u001b[0mbootstrap_no_cross\u001b[0m\u001b[0;34m(\u001b[0m\u001b[0mA\u001b[0m\u001b[0;34m,\u001b[0m \u001b[0mB\u001b[0m\u001b[0;34m,\u001b[0m \u001b[0mE\u001b[0m\u001b[0;34m,\u001b[0m \u001b[0malpha\u001b[0m\u001b[0;34m,\u001b[0m \u001b[0mbeta\u001b[0m\u001b[0;34m,\u001b[0m \u001b[0mvalues\u001b[0m\u001b[0;34m,\u001b[0m \u001b[0msize_dict\u001b[0m\u001b[0;34m)\u001b[0m\u001b[0;34m:\u001b[0m\u001b[0;34m\u001b[0m\u001b[0;34m\u001b[0m\u001b[0m\n",
      "\u001b[0;31mKeyboardInterrupt\u001b[0m: "
     ]
    }
   ],
   "source": [
    "OLS_cross_results_08 = minimize(lambda params: OLS_cross(*params, values_08, size_dict_08), [900,1000,0.1, 0.8, 0.8/1.8, 1, 0.3, 0.3], bounds = [(1e-8,np.inf), (1e-8,np.inf), (1e-8,np.inf), (1e-8,5), (1e-8,5), (0,np.inf), (0,5), (0,np.inf)])\n",
    "print(OLS_cross_results_08.x)"
   ]
  },
  {
   "cell_type": "code",
   "execution_count": 229,
   "metadata": {},
   "outputs": [
    {
     "name": "stdout",
     "output_type": "stream",
     "text": [
      "-0.00021261261579971972\n",
      "9.953218457162526e-05\n",
      "5.543937219627888e-07\n",
      "0.00012669702099506958\n"
     ]
    }
   ],
   "source": [
    "OLS_no_cross_coeffs_08 = OLS_no_cross_results_08.x\n",
    "OLS_cross_coeffs_08 = OLS_cross_results_08.x\n",
    "\n",
    "size_keys_08, size_values_08 = np.array(list(size_dict_08.keys())), np.array(list(size_dict_08.values()))\n",
    "residuals_no_cross_08 = values_08 - no_cross_term(*OLS_no_cross_coeffs_08, size_keys_08, size_values_08, values_08.shape)\n",
    "print(np.mean(residuals_no_cross_08))\n",
    "print(np.mean(residuals_no_cross_08 ** 2))\n",
    "residuals_cross_08 = values_08 - cross_term(*OLS_cross_coeffs_08, size_keys_08, size_values_08, values_08.shape)\n",
    "print(np.mean(residuals_cross_08))\n",
    "print(np.mean(residuals_cross_08 ** 2))\n"
   ]
  },
  {
   "cell_type": "code",
   "execution_count": 230,
   "metadata": {},
   "outputs": [
    {
     "name": "stdout",
     "output_type": "stream",
     "text": [
      "0\n",
      "1\n",
      "2\n",
      "3\n",
      "4\n",
      "5\n",
      "6\n",
      "7\n",
      "8\n",
      "9\n",
      "10\n",
      "11\n",
      "12\n",
      "13\n",
      "14\n",
      "15\n",
      "8293455.333301559\n"
     ]
    }
   ],
   "source": [
    "residuals_no_cross_08_likelihood = bootstrapped_log_prob(residuals_no_cross_08, residuals_no_cross_08, 19)\n",
    "print(residuals_no_cross_08_likelihood)"
   ]
  }
 ],
 "metadata": {
  "kernelspec": {
   "display_name": "base",
   "language": "python",
   "name": "python3"
  },
  "language_info": {
   "codemirror_mode": {
    "name": "ipython",
    "version": 3
   },
   "file_extension": ".py",
   "mimetype": "text/x-python",
   "name": "python",
   "nbconvert_exporter": "python",
   "pygments_lexer": "ipython3",
   "version": "3.8.5"
  },
  "orig_nbformat": 4,
  "vscode": {
   "interpreter": {
    "hash": "0e2350045533bd2e02b190ef32595389fd054220f35f6a2cac253612153f1e94"
   }
  }
 },
 "nbformat": 4,
 "nbformat_minor": 2
}
